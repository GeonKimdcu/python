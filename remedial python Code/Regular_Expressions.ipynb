{
  "nbformat": 4,
  "nbformat_minor": 0,
  "metadata": {
    "colab": {
      "name": "Regular Expressions.ipynb",
      "provenance": [],
      "collapsed_sections": []
    },
    "kernelspec": {
      "name": "python3",
      "display_name": "Python 3"
    },
    "language_info": {
      "name": "python"
    }
  },
  "cells": [
    {
      "cell_type": "code",
      "execution_count": 1,
      "metadata": {
        "colab": {
          "base_uri": "https://localhost:8080/"
        },
        "id": "rclturr1v3jC",
        "outputId": "0725d21d-1483-4c86-879d-6ef2e30b89f7"
      },
      "outputs": [
        {
          "output_type": "stream",
          "name": "stdout",
          "text": [
            "Mounted at /content/drive\n"
          ]
        }
      ],
      "source": [
        "from google.colab import drive\n",
        "drive.mount('/content/drive')"
      ]
    },
    {
      "cell_type": "code",
      "source": [
        "import os\n",
        "\n",
        "#change path\n",
        "root_dir = \"/content/drive/My Drive/\"\n",
        "base_dir = root_dir + 'python_lesson/python Coding improvement'\n",
        "os.chdir(base_dir)\n",
        "\n",
        "#mount google driver\n",
        "#from google.colab import drive\n",
        "#drive.mount('/content/gdrive', force_remount=True)\n",
        "#root_dir = \"/content/gdrive/My Drive/\""
      ],
      "metadata": {
        "id": "MTXTq9i2xu3M"
      },
      "execution_count": 2,
      "outputs": []
    },
    {
      "cell_type": "markdown",
      "source": [
        "파이썬 코드 가독성을 높이기 위해 코딩 습관을 개선시키자는 목적하에 작성됨.\n",
        "\n",
        "---"
      ],
      "metadata": {
        "id": "se14oFiexzfs"
      }
    },
    {
      "cell_type": "markdown",
      "source": [
        "### 정규 표현식\n",
        "\n",
        "- `[a-zA-Z]`: 알파벳 모두\n",
        "- `[0-9]`: 숫자\n",
        "- `^`: 반대(not)\n",
        "- `\\d`: `[0-9]`와 동일\n",
        "- `\\D`: `[^0-9]`와 동일\n",
        "- `\\s`: whitespace문자와 매치. `[ \\t\\n\\r\\f\\v]`와 동일\n",
        "- `\\S`: `[^ \\t\\n\\r\\f\\v]`와 동일\n",
        "- `\\w`: 문자+숫자. `[a-zA-Z0-9_]`와 동일\n",
        "- `\\W`: [^a-zA-Z0-9_]`와 동일\n",
        "\n",
        "- Dot(.): 줄바꿈 문자인 `\\n`을 제외한 모든 문자와 매치됨.\n",
        "  - `a.b`: a와 b 사이에 줄바꿈 문자를 제외한 어떤 문자가 들어가도 모두 매치\n",
        "- `*`: 반복을 의미(최소 0번 이상)\n",
        "  - `ca*t`: `*`문자 바로 앞에 있는 a가 0번 이상 반복되면 매치\n",
        "- `+`: 반복(최소 1번 이상)\n",
        "  - `ca+t`: `+` 문자 바로 앞에 있는 a가 1번 이상 반복되면 매치\n",
        "- `({m,n},?)`: 반복 횟수 제한 가능.\n",
        "  - `ca{2}t`: a가 2번 반복되면 매치\n",
        "  - `ca{2,5}t`: a가 2~5번 반복되면 매치\n",
        "  - `ab?c`: b가 0~1번 사용되면 매치"
      ],
      "metadata": {
        "id": "vilXyFlLx-tz"
      }
    },
    {
      "cell_type": "markdown",
      "source": [
        "### 정규식을 사용한 문자열 검색\n",
        "\n",
        "- `match()`: 문자열의 처음부터 정규식과 매치되는지 조사\n",
        "- `search()`: 문자열 전체를 검색하여 정규식과 매치되는지 조사\n",
        "- `findall()`: 정규식과 매치되는 모든 문자열(substring)을 리스트로 돌려준다.\n",
        "- `finditer()`: 정규식과 매치되는 모든 문자열(substring)을 반복 가능한 객체로 돌려준다."
      ],
      "metadata": {
        "id": "F6dyHNK9zoua"
      }
    },
    {
      "cell_type": "code",
      "source": [
        "import re\n",
        "p = re.compile('[a-z]+')"
      ],
      "metadata": {
        "id": "airfMf0rxz5Y"
      },
      "execution_count": 3,
      "outputs": []
    },
    {
      "cell_type": "code",
      "source": [
        "m = p.match(\"python\")\n",
        "print(m)"
      ],
      "metadata": {
        "colab": {
          "base_uri": "https://localhost:8080/"
        },
        "id": "wLmEALZl0LeC",
        "outputId": "9c2b45af-8854-4db7-b78e-811d34bc90cc"
      },
      "execution_count": 7,
      "outputs": [
        {
          "output_type": "stream",
          "name": "stdout",
          "text": [
            "<re.Match object; span=(0, 6), match='python'>\n"
          ]
        }
      ]
    },
    {
      "cell_type": "code",
      "source": [
        "m = p.match(\"3 python\")\n",
        "print(m)"
      ],
      "metadata": {
        "colab": {
          "base_uri": "https://localhost:8080/"
        },
        "id": "YkkXLQo_0Pmh",
        "outputId": "fa4a757a-bab2-422e-997b-80ccdf997752"
      },
      "execution_count": 5,
      "outputs": [
        {
          "output_type": "stream",
          "name": "stdout",
          "text": [
            "None\n"
          ]
        }
      ]
    },
    {
      "cell_type": "code",
      "source": [
        "p = re.compile('[a-z]+')\n",
        "m = p.match(\"python\")\n",
        "print('Match found: ', m.group()) if m else print('No match')"
      ],
      "metadata": {
        "colab": {
          "base_uri": "https://localhost:8080/"
        },
        "id": "PlW845Gp0krP",
        "outputId": "39c584cd-81bf-49a9-f87a-7c5d24e2b041"
      },
      "execution_count": 10,
      "outputs": [
        {
          "output_type": "stream",
          "name": "stdout",
          "text": [
            "Match found:  python\n"
          ]
        }
      ]
    },
    {
      "cell_type": "code",
      "source": [
        "m = p.search(\"python\")\n",
        "print(m)"
      ],
      "metadata": {
        "colab": {
          "base_uri": "https://localhost:8080/"
        },
        "id": "vwxdDYHC06CI",
        "outputId": "38c23f36-cf40-4835-d487-8ca23b84b537"
      },
      "execution_count": 11,
      "outputs": [
        {
          "output_type": "stream",
          "name": "stdout",
          "text": [
            "<re.Match object; span=(0, 6), match='python'>\n"
          ]
        }
      ]
    },
    {
      "cell_type": "code",
      "source": [
        "m = p.search(\"3 python\")\n",
        "print(m)"
      ],
      "metadata": {
        "colab": {
          "base_uri": "https://localhost:8080/"
        },
        "id": "8tv2ynlk1JM8",
        "outputId": "88b46fdf-0b2d-461e-9685-4d44791360f9"
      },
      "execution_count": 12,
      "outputs": [
        {
          "output_type": "stream",
          "name": "stdout",
          "text": [
            "<re.Match object; span=(2, 8), match='python'>\n"
          ]
        }
      ]
    },
    {
      "cell_type": "code",
      "source": [
        "result = p.findall(\"life is too short\")\n",
        "print(result)"
      ],
      "metadata": {
        "colab": {
          "base_uri": "https://localhost:8080/"
        },
        "id": "SA6CnJCA1NFh",
        "outputId": "890d3691-8169-4bd3-a48e-28ff0957b59c"
      },
      "execution_count": 13,
      "outputs": [
        {
          "output_type": "stream",
          "name": "stdout",
          "text": [
            "['life', 'is', 'too', 'short']\n"
          ]
        }
      ]
    },
    {
      "cell_type": "code",
      "source": [
        "result = p.finditer(\"life is too short\")\n",
        "print(result)"
      ],
      "metadata": {
        "colab": {
          "base_uri": "https://localhost:8080/"
        },
        "id": "why8-zBR1Tlo",
        "outputId": "fef92ef4-8bf3-49fa-a26a-241db055d5ea"
      },
      "execution_count": 14,
      "outputs": [
        {
          "output_type": "stream",
          "name": "stdout",
          "text": [
            "<callable_iterator object at 0x7f5ffbe36510>\n"
          ]
        }
      ]
    },
    {
      "cell_type": "code",
      "source": [
        "for r in result: print(r)"
      ],
      "metadata": {
        "colab": {
          "base_uri": "https://localhost:8080/"
        },
        "id": "rCYV0fsG1e_A",
        "outputId": "b30f266b-5cd7-4e13-829e-a7a75ff8b307"
      },
      "execution_count": 15,
      "outputs": [
        {
          "output_type": "stream",
          "name": "stdout",
          "text": [
            "<re.Match object; span=(0, 4), match='life'>\n",
            "<re.Match object; span=(5, 7), match='is'>\n",
            "<re.Match object; span=(8, 11), match='too'>\n",
            "<re.Match object; span=(12, 17), match='short'>\n"
          ]
        }
      ]
    },
    {
      "cell_type": "markdown",
      "source": [
        "- `group()`: 매치된 문자열을 반환\n",
        "- `start()`: 매치된 문자열의 시작 위치 반환\n",
        "- `end()`: 매치된 문자열의 끝 위치 반환\n",
        "- `span()`: 매치된 문자열의 (시작, 끝)에 해당하는 튜플 반환"
      ],
      "metadata": {
        "id": "eCe50uul2H8q"
      }
    },
    {
      "cell_type": "code",
      "source": [
        "import re\n",
        "p = re.compile('[a-z]+')\n",
        "m = p.match(\"python\")\n",
        "print(m.group())\n",
        "print(m.start())\n",
        "print(m.end())\n",
        "print(m.span())"
      ],
      "metadata": {
        "colab": {
          "base_uri": "https://localhost:8080/"
        },
        "id": "ErAdSJ-k1hNA",
        "outputId": "36c978a4-cf6d-4d26-f0fe-2dfcecc8bf65"
      },
      "execution_count": 17,
      "outputs": [
        {
          "output_type": "stream",
          "name": "stdout",
          "text": [
            "python\n",
            "0\n",
            "6\n",
            "(0, 6)\n"
          ]
        }
      ]
    },
    {
      "cell_type": "markdown",
      "source": [
        "### 컴파일 옵션\n",
        "\n",
        "- `re.DOTALL`, `re.S`: dot 문자(.)가 줄바꿈 문자를 포함하여 모든 문자와 매치\n",
        "- `re.IGNORECASE`, `re.I`: 대﹒소문자에 관계 없이 매치\n",
        "- `re.MULTILINE`, `re.M`: 여러 줄과 매치\n",
        "- `re.VERBOSE`, `re.X`: verbose 모드를 사용한다.\n"
      ],
      "metadata": {
        "id": "_NZyTzUy2wwU"
      }
    },
    {
      "cell_type": "code",
      "source": [
        "import re\n",
        "m = re.match('a.b', \"a\\nb\")\n",
        "print(m)\n",
        "\n",
        "m = re.match('a.b', 'a\\nb', re.S)\n",
        "print(m)"
      ],
      "metadata": {
        "colab": {
          "base_uri": "https://localhost:8080/"
        },
        "id": "6dyQ9dwW2elK",
        "outputId": "50de80d9-8655-4573-b071-7f2823338214"
      },
      "execution_count": 24,
      "outputs": [
        {
          "output_type": "stream",
          "name": "stdout",
          "text": [
            "None\n",
            "<re.Match object; span=(0, 3), match='a\\nb'>\n"
          ]
        }
      ]
    },
    {
      "cell_type": "code",
      "source": [
        "m = re.match('[a-z]', 'python', re.I)\n",
        "print(m)\n",
        "\n",
        "m = re.match('[a-z]', 'Python', re.I)\n",
        "print(m)\n",
        "\n",
        "m = re.match('[a-z]', 'PYTHON', re.I)\n",
        "print(m)"
      ],
      "metadata": {
        "colab": {
          "base_uri": "https://localhost:8080/"
        },
        "id": "B7wfgBXW4kgc",
        "outputId": "9777fa56-636c-4c32-e4de-eda6a6b82be8"
      },
      "execution_count": 25,
      "outputs": [
        {
          "output_type": "stream",
          "name": "stdout",
          "text": [
            "<re.Match object; span=(0, 1), match='p'>\n",
            "<re.Match object; span=(0, 1), match='P'>\n",
            "<re.Match object; span=(0, 1), match='P'>\n"
          ]
        }
      ]
    },
    {
      "cell_type": "code",
      "source": [
        "data = \"\"\"python one\n",
        "life is too short\n",
        "python two\n",
        "you need python\n",
        "python three\"\"\""
      ],
      "metadata": {
        "id": "nE1ZsBU85Yyz"
      },
      "execution_count": 26,
      "outputs": []
    },
    {
      "cell_type": "code",
      "source": [
        "p = re.compile(\"^python\\s\\w+\")\n",
        "print(p.findall(data))"
      ],
      "metadata": {
        "colab": {
          "base_uri": "https://localhost:8080/"
        },
        "id": "_UNu5hAf6P5t",
        "outputId": "e5167356-0ed0-4836-d91b-4867bafd5d06"
      },
      "execution_count": 29,
      "outputs": [
        {
          "output_type": "stream",
          "name": "stdout",
          "text": [
            "['python one']\n"
          ]
        }
      ]
    },
    {
      "cell_type": "code",
      "source": [
        "p = re.compile(\"^python\\s\\w+\", re.M)\n",
        "print(p.findall(data))"
      ],
      "metadata": {
        "colab": {
          "base_uri": "https://localhost:8080/"
        },
        "id": "ka9AonIS6XhO",
        "outputId": "47ab24be-5630-4457-b615-849a56c7505f"
      },
      "execution_count": 30,
      "outputs": [
        {
          "output_type": "stream",
          "name": "stdout",
          "text": [
            "['python one', 'python two', 'python three']\n"
          ]
        }
      ]
    },
    {
      "cell_type": "code",
      "source": [
        "charref = re.compile(r'&[#](0[0-7]+|[0-9]+|x[0-9a-fA_F]+);')"
      ],
      "metadata": {
        "id": "5GVOtYbb63rE"
      },
      "execution_count": 35,
      "outputs": []
    },
    {
      "cell_type": "code",
      "source": [
        "# re.VERBOSE 옵션 사용하면 문자열에 사용된 whitespace는 컴파일 시 제거됨.\n",
        "\n",
        "charref = re.compile(r\"\"\"\n",
        "&[#] #Start of a numeric entity reference\n",
        "(\n",
        "  0[0-7]+ # Octal form\n",
        "  | [0-9]+ # Decimal form\n",
        "  | x[0-9a-fA-F]+ # Hexadecimal form\n",
        ")\n",
        ";\n",
        "\"\"\", re.X)"
      ],
      "metadata": {
        "id": "f_YssqXQ7vqG"
      },
      "execution_count": 37,
      "outputs": []
    },
    {
      "cell_type": "markdown",
      "source": [
        "### 메타 문자\n",
        "\n",
        "- `^`: 문자열의 맨 처음과 일치함을 의미\n",
        "- `$`: 문자열의 끝과 매치\n",
        "- `\\A`: 문자열의 처음과 매치됨을 의미.(각 줄이 아닌 전체 줄에서 해당)\n",
        "- `\\Z`: 문자열의 끝과 매치됨을 의미.(각 줄이 아닌 전체 줄에서 해당)\n",
        "- `\\b`: 단어 구분자(Word boundary) (Raw String임을 알려주는 기호 r을 반드시 붙이기)\n",
        "- `\\B`: whitespace로 구분된 단어가 아닌 경우에만 매치."
      ],
      "metadata": {
        "id": "in2_GZpEBg8k"
      }
    },
    {
      "cell_type": "code",
      "source": [
        "print(re.search('^Life', 'Life is too short'))\n",
        "print(re.search('^Life', 'My Life'))"
      ],
      "metadata": {
        "colab": {
          "base_uri": "https://localhost:8080/"
        },
        "id": "3HpByHHb8fRe",
        "outputId": "f2354d9b-e33b-457f-b0ca-f23269dbd161"
      },
      "execution_count": 38,
      "outputs": [
        {
          "output_type": "stream",
          "name": "stdout",
          "text": [
            "<re.Match object; span=(0, 4), match='Life'>\n",
            "None\n"
          ]
        }
      ]
    },
    {
      "cell_type": "code",
      "source": [
        "print(re.search('short$', 'Life is too short'))\n",
        "print(re.search('short$', 'Life is too short, you need python'))"
      ],
      "metadata": {
        "colab": {
          "base_uri": "https://localhost:8080/"
        },
        "id": "vl7C96X-C4jm",
        "outputId": "4d99388f-24a8-4b49-c363-5606eb8c0208"
      },
      "execution_count": 39,
      "outputs": [
        {
          "output_type": "stream",
          "name": "stdout",
          "text": [
            "<re.Match object; span=(12, 17), match='short'>\n",
            "None\n"
          ]
        }
      ]
    },
    {
      "cell_type": "code",
      "source": [
        "p = re.compile(r'\\bclass\\b')\n",
        "print(p.search('no class at all'))\n",
        "print(p.search('the declassified algorithm'))"
      ],
      "metadata": {
        "colab": {
          "base_uri": "https://localhost:8080/"
        },
        "id": "kUNRDJOYDDX7",
        "outputId": "0f91d757-9c2f-4011-bf03-93676df29800"
      },
      "execution_count": 41,
      "outputs": [
        {
          "output_type": "stream",
          "name": "stdout",
          "text": [
            "<re.Match object; span=(3, 8), match='class'>\n",
            "None\n"
          ]
        }
      ]
    },
    {
      "cell_type": "markdown",
      "source": [
        "### 그루핑\n",
        "\n",
        "- `group(0)`: 매치된 전체 문자열\n",
        "- `group(1)`: 첫 번째 그룹에 해당하는 문자열\n",
        "- `group(2)`: 두 번째 그룹에 해당하는 문자열\n",
        "- `group(3)`: n 번째 그룹에 해당하는 문자열"
      ],
      "metadata": {
        "id": "BtPOq6eWDjuM"
      }
    },
    {
      "cell_type": "code",
      "source": [
        "m = re.search('(ABC)+', 'ABCABCABC OK?')\n",
        "print(m)\n",
        "print(m.group(0))"
      ],
      "metadata": {
        "colab": {
          "base_uri": "https://localhost:8080/"
        },
        "id": "j8cUtLwPDLwF",
        "outputId": "29e1755e-ef93-469a-8237-ac64ecdc295c"
      },
      "execution_count": 43,
      "outputs": [
        {
          "output_type": "stream",
          "name": "stdout",
          "text": [
            "<re.Match object; span=(0, 9), match='ABCABCABC'>\n",
            "ABCABCABC\n"
          ]
        }
      ]
    },
    {
      "cell_type": "code",
      "source": [
        "m = re.search(r\"\\w+\\s+\\d+[-]\\d+[-]\\d+\", 'park 010-1234-1234')\n",
        "print(m)\n",
        "\n",
        "m = re.search(r\"(\\w+)\\s+((\\d+)[-]\\d+[-]\\d+)\", 'park 010-1234-1234')\n",
        "print(m.group(1))\n",
        "print(m.group(2))\n",
        "print(m.group(3)) # 그루핑 인덱스는 밖 -> 안"
      ],
      "metadata": {
        "colab": {
          "base_uri": "https://localhost:8080/"
        },
        "id": "5zkaKR2TExvU",
        "outputId": "e8486412-9a92-401d-f951-11ccf77692ff"
      },
      "execution_count": 49,
      "outputs": [
        {
          "output_type": "stream",
          "name": "stdout",
          "text": [
            "<re.Match object; span=(0, 18), match='park 010-1234-1234'>\n",
            "park\n",
            "010-1234-1234\n",
            "010\n"
          ]
        }
      ]
    },
    {
      "cell_type": "markdown",
      "source": [
        "정규식 `(\\b\\w+)\\s+\\1`은 '(그룹)+\" \"+그룹과 동일한 단어'와 매치됨을 의미한다. <br>\n",
        "2개의 동일한 단어를 연속적으로 사용해야만 매치된다. `\\1`은 정규식의 그룹 중 첫 번째 그룹을 가리킨다."
      ],
      "metadata": {
        "id": "Sby-VcXmI2bE"
      }
    },
    {
      "cell_type": "code",
      "source": [
        " p = re.compile(r'(\\b\\w+)\\s+\\1')\n",
        " p.search('Paris in the the spring').group()"
      ],
      "metadata": {
        "colab": {
          "base_uri": "https://localhost:8080/",
          "height": 35
        },
        "id": "WPIvhiJ-FT_A",
        "outputId": "1b7521a3-eabf-4966-c7ee-ca66bb0177b4"
      },
      "execution_count": 55,
      "outputs": [
        {
          "output_type": "execute_result",
          "data": {
            "application/vnd.google.colaboratory.intrinsic+json": {
              "type": "string"
            },
            "text/plain": [
              "'the the'"
            ]
          },
          "metadata": {},
          "execution_count": 55
        }
      ]
    },
    {
      "cell_type": "markdown",
      "source": [
        "### 그루핑된 문자열에 이름 붙이기\n",
        "\n",
        "`(?P<그룹이름>...)`"
      ],
      "metadata": {
        "id": "Ou0PYQS7OS8X"
      }
    },
    {
      "cell_type": "code",
      "source": [
        "m = re.search(r'(?P<name>\\w+)\\s+((\\d+)[-]\\d+[-]\\d+)', 'park 010-1234-1234')\n",
        "print(m.group(\"name\"))"
      ],
      "metadata": {
        "colab": {
          "base_uri": "https://localhost:8080/"
        },
        "id": "ebvkTsc3ITqG",
        "outputId": "ea3369e5-3098-4f57-e23e-e7352440229e"
      },
      "execution_count": 56,
      "outputs": [
        {
          "output_type": "stream",
          "name": "stdout",
          "text": [
            "park\n"
          ]
        }
      ]
    },
    {
      "cell_type": "markdown",
      "source": [
        "### 전방 탐색\n",
        "\n",
        "- `(?=...)`: 긍정형 전방 탐색, ...에 해당하는 정규식과 매치되어야 하며 조건이 통과되어도 문자열이 소비되지 않는다.\n",
        "- `(?!...)`: 부정형 전방 탐색, ...에 해당하는 정규식과 매치되지 않아야 하며 조건이 통과되어도 문자열이 소비되지 않는다."
      ],
      "metadata": {
        "id": "5wCymSCXO4WY"
      }
    },
    {
      "cell_type": "code",
      "source": [
        "m = re.search(\".+(?=:)\", \"http://google.com\")\n",
        "print(m.group())\n",
        "\n",
        "# :에 해당하는 문자열이 정규식 엔진에 소비되지 않음(검색에는 포함되지만 검색 결과에는 제외)"
      ],
      "metadata": {
        "colab": {
          "base_uri": "https://localhost:8080/"
        },
        "id": "SQzybkVrOrzL",
        "outputId": "2512c098-204a-4be3-fffc-33d1eff04ac4"
      },
      "execution_count": 60,
      "outputs": [
        {
          "output_type": "stream",
          "name": "stdout",
          "text": [
            "http\n"
          ]
        }
      ]
    },
    {
      "cell_type": "markdown",
      "source": [
        "#### 긍정형 전방 탐색\n",
        "\n",
        "`.*[.].*$` 이 정규식은 '파일 이름 + . + 확장자'를 나타내는 정규식이다.\n",
        "\n",
        "이 정규식에 확장자가 'bat인 파일은 제외해야 한다'는 조건을 추가해 보자.\n",
        "\n",
        "`.*[.][^b].*$` 이 정규식은 확장자가 b라는 문자로 시작하면 안 된다는 의미. 하지만 .bar파일도 걸러낼 수 있다.\n",
        "\n",
        "`.*[.]([^b]..|.[^a].|..[^t])$` 이 정규식은 아쉽게도 확장자의 문자 개수가 2개인 케이스를 포함하지 못하는 오동작을 한다.\n",
        "\n",
        "`.*[.]([^b].?.?|.[^a]?.?|..?[^t]?)$` 확장자의 문자 개수가 2개여도 통과되는 정규식."
      ],
      "metadata": {
        "id": "KPuXaSTDQUN-"
      }
    },
    {
      "cell_type": "markdown",
      "source": [
        "#### 부정형 전방 탐색\n",
        "\n",
        "위 정규식에서 bat 파일말고 exe 파일도 제외하라는 조건이 추가\n",
        "\n",
        "`*[.](?!bat$).*$` 확장자가 bat가 아닌 경우에만 통과. \n",
        "\n",
        "`.*[.](?!bat$|exe$).*$` exe 역시 제외하라는 조건 추가"
      ],
      "metadata": {
        "id": "O7rfdpHZR_MR"
      }
    },
    {
      "cell_type": "markdown",
      "source": [
        "### 문자열 바꾸기\n",
        "\n",
        "sub 메서드의 첫 번째 매개변수는 '바꿀 문자열(replacement)'이 되고, 두 번째 매개변수는 '대상 문자열'이 된다. "
      ],
      "metadata": {
        "id": "IqMbyZ2VSe1r"
      }
    },
    {
      "cell_type": "code",
      "source": [
        "p= re.sub('(blue|white|red)', 'colour', 'blue socks and red shoes')\n",
        "p"
      ],
      "metadata": {
        "colab": {
          "base_uri": "https://localhost:8080/",
          "height": 35
        },
        "id": "fQXWbJIvPgbP",
        "outputId": "4ace9c29-10b4-4f04-f4ad-7a71e01a7317"
      },
      "execution_count": 64,
      "outputs": [
        {
          "output_type": "execute_result",
          "data": {
            "application/vnd.google.colaboratory.intrinsic+json": {
              "type": "string"
            },
            "text/plain": [
              "'colour socks and colour shoes'"
            ]
          },
          "metadata": {},
          "execution_count": 64
        }
      ]
    },
    {
      "cell_type": "code",
      "source": [
        "p= re.sub('(blue|white|red)', 'colour', 'blue socks and red shoes', count=1)\n",
        "p"
      ],
      "metadata": {
        "colab": {
          "base_uri": "https://localhost:8080/",
          "height": 35
        },
        "id": "hsc0BNAwS_CD",
        "outputId": "dc8b4db6-3f88-462f-a030-14a50e24d2e0"
      },
      "execution_count": 65,
      "outputs": [
        {
          "output_type": "execute_result",
          "data": {
            "application/vnd.google.colaboratory.intrinsic+json": {
              "type": "string"
            },
            "text/plain": [
              "'colour socks and red shoes'"
            ]
          },
          "metadata": {},
          "execution_count": 65
        }
      ]
    },
    {
      "cell_type": "code",
      "source": [
        "# 바꿀 문자열 부분에 '\\g<그룹이름>'을 사용하면 정규식의 그룹 이름 참조 가능\n",
        "\n",
        "p = re.sub(r'(?P<name>\\w+)\\s+(?P<phone>(\\d+)[-]\\d+[-]\\d+)', '\\g<phone> \\g<name>', 'park 010-1234-1234')\n",
        "p"
      ],
      "metadata": {
        "colab": {
          "base_uri": "https://localhost:8080/",
          "height": 35
        },
        "id": "7_YbpA-QTJ8z",
        "outputId": "07b09dd9-a627-452a-a796-6c17591ca83f"
      },
      "execution_count": 67,
      "outputs": [
        {
          "output_type": "execute_result",
          "data": {
            "application/vnd.google.colaboratory.intrinsic+json": {
              "type": "string"
            },
            "text/plain": [
              "'010-1234-1234 park'"
            ]
          },
          "metadata": {},
          "execution_count": 67
        }
      ]
    },
    {
      "cell_type": "markdown",
      "source": [
        "### Greedy vs Non-Greedy\n",
        "\n",
        "'<.*>' 정규식의 매치 결과로 < html> 문자열을 돌려주기를 기대했을 것이다. 하지만 '*' 메타 문자는 매우 탐욕스러워서 매치할 수 있는 최대한의 문자열인 < html>< head>< title>< Title</ title>문자열을 모두 소비해 버렸다.\n",
        "\n",
        "다음과 같이 non-greedy 문자인 ?를 사용하면 *의 탐욕을 막을 수 있다."
      ],
      "metadata": {
        "id": "G58dHuShZIAG"
      }
    },
    {
      "cell_type": "code",
      "source": [
        "s = '<html><head><title>Title</title>'\n",
        "print(len(s))\n",
        "print(re.match('<.*>', s).span())\n",
        "print(re.match('<.*>', s).group())"
      ],
      "metadata": {
        "colab": {
          "base_uri": "https://localhost:8080/"
        },
        "id": "Xyzw_LD9YPJS",
        "outputId": "175ebb5a-7669-4afd-aa65-a706b1aff286"
      },
      "execution_count": 68,
      "outputs": [
        {
          "output_type": "stream",
          "name": "stdout",
          "text": [
            "32\n",
            "(0, 32)\n",
            "<html><head><title>Title</title>\n"
          ]
        }
      ]
    },
    {
      "cell_type": "code",
      "source": [
        "print(re.match('<.*?>', s).group())"
      ],
      "metadata": {
        "colab": {
          "base_uri": "https://localhost:8080/"
        },
        "id": "-xhkJZqqZ_4k",
        "outputId": "46ef3d3e-42c3-4a4e-e1bc-283b019e6293"
      },
      "execution_count": 69,
      "outputs": [
        {
          "output_type": "stream",
          "name": "stdout",
          "text": [
            "<html>\n"
          ]
        }
      ]
    }
  ]
}