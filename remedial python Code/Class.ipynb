{
  "nbformat": 4,
  "nbformat_minor": 0,
  "metadata": {
    "colab": {
      "name": "Class.ipynb",
      "provenance": [],
      "collapsed_sections": []
    },
    "kernelspec": {
      "name": "python3",
      "display_name": "Python 3"
    },
    "language_info": {
      "name": "python"
    }
  },
  "cells": [
    {
      "cell_type": "code",
      "execution_count": 1,
      "metadata": {
        "colab": {
          "base_uri": "https://localhost:8080/"
        },
        "id": "JZuInWGyztLQ",
        "outputId": "c08f0f31-36e2-445f-fa5e-1f4924eefda0"
      },
      "outputs": [
        {
          "output_type": "stream",
          "name": "stdout",
          "text": [
            "Mounted at /content/drive\n"
          ]
        }
      ],
      "source": [
        "from google.colab import drive\n",
        "drive.mount('/content/drive')"
      ]
    },
    {
      "cell_type": "code",
      "source": [
        "import os\n",
        "\n",
        "#change path\n",
        "root_dir = \"/content/drive/My Drive/\"\n",
        "base_dir = root_dir + 'python_lesson/python Coding improvement'\n",
        "os.chdir(base_dir)\n",
        "\n",
        "#mount google driver\n",
        "#from google.colab import drive\n",
        "#drive.mount('/content/gdrive', force_remount=True)\n",
        "#root_dir = \"/content/gdrive/My Drive/\""
      ],
      "metadata": {
        "id": "3_9jpChIH4WL"
      },
      "execution_count": 2,
      "outputs": []
    },
    {
      "cell_type": "markdown",
      "source": [
        "파이썬 코드 가독성을 높이기 위해 코딩 습관을 개선시키자는 목적하에 작성됨.\n",
        "\n",
        "---"
      ],
      "metadata": {
        "id": "je34YJhrH9Yn"
      }
    },
    {
      "cell_type": "markdown",
      "source": [
        "### 객체와 인스턴스의 차이\n",
        "\n",
        "클래스로 만든 객체를 인스턴스라고 한다. <br>\n",
        "a = Cookie() 이렇게 만든 a는 객체이다. 그리고 a 객체는 Cookie의 인스턴스이다. <br>\n",
        "\n",
        "즉 인스턴스라는 말은 특정 객체(a)가 어떤 클래스(Cookie)의 객체인지를 관계 위주로 설명할 때 사용한다."
      ],
      "metadata": {
        "id": "cl2zJ3aeIK6l"
      }
    },
    {
      "cell_type": "markdown",
      "source": [
        "### 사칙연산 클래스 만들기\n",
        "\n",
        "Method안에 self라는 매개변수는 method를 호출한 객체가 자동으로 전달됨. <br>\n",
        "a.setdata(4,2)처럼 호출하면 setdata 메서드의 첫 번째 매개변수 self는 setdata메서드를 호출한 객체 a가 자동으로 전달됨.\n",
        "\n",
        "첫 번째 매개변수 이름은 관례적으로 self를 사용함.\n",
        "\n",
        "단, `클래스 이름.메서드`형태로 호출할 때는 객체 a를 첫 번째 매개변수 self에 꼭 전달해 주어야 한다."
      ],
      "metadata": {
        "id": "LPp6aWY4JOys"
      }
    },
    {
      "cell_type": "code",
      "source": [
        "class FourCal:\n",
        "  def setdata(self, first, second):\n",
        "    self.first = first\n",
        "    self.second = second\n",
        "  \n",
        "  def add(self):\n",
        "    result = self.first + self.second\n",
        "    return result\n",
        "\n",
        "  def mul(self):\n",
        "    result = self.first * self.second\n",
        "    return result\n",
        "  \n",
        "  def sub(self):\n",
        "    result = self.first - self.second\n",
        "    return result\n",
        "  \n",
        "  def div(self):\n",
        "    result = self.first / self.second\n",
        "    return result"
      ],
      "metadata": {
        "id": "ZEv7RSeJH93P"
      },
      "execution_count": 8,
      "outputs": []
    },
    {
      "cell_type": "code",
      "source": [
        "a = FourCal()\n",
        "a.setdata(4,2)\n",
        "# FourCal.setdata(a,4,2)"
      ],
      "metadata": {
        "id": "MjUjDJg0JKkW"
      },
      "execution_count": 5,
      "outputs": []
    },
    {
      "cell_type": "code",
      "source": [
        "print(a.first)\n",
        "print(a.second)"
      ],
      "metadata": {
        "colab": {
          "base_uri": "https://localhost:8080/"
        },
        "id": "xQ5bmrYZMsgH",
        "outputId": "8088e8f7-8675-4914-a59b-c53763ae61f6"
      },
      "execution_count": 7,
      "outputs": [
        {
          "output_type": "stream",
          "name": "stdout",
          "text": [
            "4\n",
            "2\n"
          ]
        }
      ]
    },
    {
      "cell_type": "code",
      "source": [
        "a = FourCal()\n",
        "b = FourCal()\n",
        "\n",
        "a.setdata(2,4)\n",
        "b.setdata(3,8)\n",
        "\n",
        "print(a.add())\n",
        "print(b.add())\n",
        "print(a.sub())\n",
        "print(a.div())"
      ],
      "metadata": {
        "colab": {
          "base_uri": "https://localhost:8080/"
        },
        "id": "SSmIrXhCOC5_",
        "outputId": "ffdff3d4-bf47-456d-d018-3d0504e2d361"
      },
      "execution_count": 10,
      "outputs": [
        {
          "output_type": "stream",
          "name": "stdout",
          "text": [
            "6\n",
            "11\n",
            "-2\n",
            "0.5\n"
          ]
        }
      ]
    },
    {
      "cell_type": "markdown",
      "source": [
        "### 생성자(Constructor)"
      ],
      "metadata": {
        "id": "0uKm3skePRmK"
      }
    },
    {
      "cell_type": "code",
      "source": [
        "a = FourCal()\n",
        "a.add()"
      ],
      "metadata": {
        "colab": {
          "base_uri": "https://localhost:8080/",
          "height": 305
        },
        "id": "Y55pfUUWO9Ma",
        "outputId": "ae916584-5195-493b-9d9e-8738fccd491b"
      },
      "execution_count": 11,
      "outputs": [
        {
          "output_type": "error",
          "ename": "AttributeError",
          "evalue": "ignored",
          "traceback": [
            "\u001b[0;31m---------------------------------------------------------------------------\u001b[0m",
            "\u001b[0;31mAttributeError\u001b[0m                            Traceback (most recent call last)",
            "\u001b[0;32m<ipython-input-11-93d8790fe05f>\u001b[0m in \u001b[0;36m<module>\u001b[0;34m()\u001b[0m\n\u001b[1;32m      1\u001b[0m \u001b[0ma\u001b[0m \u001b[0;34m=\u001b[0m \u001b[0mFourCal\u001b[0m\u001b[0;34m(\u001b[0m\u001b[0;34m)\u001b[0m\u001b[0;34m\u001b[0m\u001b[0;34m\u001b[0m\u001b[0m\n\u001b[0;32m----> 2\u001b[0;31m \u001b[0ma\u001b[0m\u001b[0;34m.\u001b[0m\u001b[0madd\u001b[0m\u001b[0;34m(\u001b[0m\u001b[0;34m)\u001b[0m\u001b[0;34m\u001b[0m\u001b[0;34m\u001b[0m\u001b[0m\n\u001b[0m",
            "\u001b[0;32m<ipython-input-8-f24b928f440e>\u001b[0m in \u001b[0;36madd\u001b[0;34m(self)\u001b[0m\n\u001b[1;32m      5\u001b[0m \u001b[0;34m\u001b[0m\u001b[0m\n\u001b[1;32m      6\u001b[0m   \u001b[0;32mdef\u001b[0m \u001b[0madd\u001b[0m\u001b[0;34m(\u001b[0m\u001b[0mself\u001b[0m\u001b[0;34m)\u001b[0m\u001b[0;34m:\u001b[0m\u001b[0;34m\u001b[0m\u001b[0;34m\u001b[0m\u001b[0m\n\u001b[0;32m----> 7\u001b[0;31m     \u001b[0mresult\u001b[0m \u001b[0;34m=\u001b[0m \u001b[0mself\u001b[0m\u001b[0;34m.\u001b[0m\u001b[0mfirst\u001b[0m \u001b[0;34m+\u001b[0m \u001b[0mself\u001b[0m\u001b[0;34m.\u001b[0m\u001b[0msecond\u001b[0m\u001b[0;34m\u001b[0m\u001b[0;34m\u001b[0m\u001b[0m\n\u001b[0m\u001b[1;32m      8\u001b[0m     \u001b[0;32mreturn\u001b[0m \u001b[0mresult\u001b[0m\u001b[0;34m\u001b[0m\u001b[0;34m\u001b[0m\u001b[0m\n\u001b[1;32m      9\u001b[0m \u001b[0;34m\u001b[0m\u001b[0m\n",
            "\u001b[0;31mAttributeError\u001b[0m: 'FourCal' object has no attribute 'first'"
          ]
        }
      ]
    },
    {
      "cell_type": "markdown",
      "source": [
        "인스턴스 a에 setdata 메서드를 수행하지 않고 add 메서드를 수행하면 오류가 발생한다. <br>\n",
        "setdata 메서드를 수행해야 객체 a의 객체변수 first와 second가 생성되기 때문이다.\n",
        "\n",
        "이렇게 객체에 초깃값을 설정해야 할 필요가 있을 때는 setdata와 같은 메서드를 호출하여 초깃값을 설정하기보다 생성자를 구현하는 것이 안전한 방법이다. <br>\n",
        "\n",
        "생성자란 객체가 생성될 때 자동으로 호출되는 메서드를 의미한다."
      ],
      "metadata": {
        "id": "E4Q0q4rAPXSb"
      }
    },
    {
      "cell_type": "code",
      "source": [
        "class FourCal:\n",
        "  def __init__(self, first, second):\n",
        "    self.first = first\n",
        "    self.second = second\n",
        "\n",
        "  def setdata(self, first, second):\n",
        "    self.first = first\n",
        "    self.second = second\n",
        "  \n",
        "  def add(self):\n",
        "    result = self.first + self.second\n",
        "    return result\n",
        "\n",
        "  def mul(self):\n",
        "    result = self.first * self.second\n",
        "    return result\n",
        "  \n",
        "  def sub(self):\n",
        "    result = self.first - self.second\n",
        "    return result\n",
        "  \n",
        "  def div(self):\n",
        "    result = self.first / self.second\n",
        "    return result"
      ],
      "metadata": {
        "id": "VL9Gz3wlPWFY"
      },
      "execution_count": 12,
      "outputs": []
    },
    {
      "cell_type": "code",
      "source": [
        "a = FourCal()"
      ],
      "metadata": {
        "colab": {
          "base_uri": "https://localhost:8080/",
          "height": 166
        },
        "id": "dStk6nZYRXt_",
        "outputId": "06c14923-1cba-43d6-91dc-a8c6a68f4915"
      },
      "execution_count": 13,
      "outputs": [
        {
          "output_type": "error",
          "ename": "TypeError",
          "evalue": "ignored",
          "traceback": [
            "\u001b[0;31m---------------------------------------------------------------------------\u001b[0m",
            "\u001b[0;31mTypeError\u001b[0m                                 Traceback (most recent call last)",
            "\u001b[0;32m<ipython-input-13-5cfa1e393ba9>\u001b[0m in \u001b[0;36m<module>\u001b[0;34m()\u001b[0m\n\u001b[0;32m----> 1\u001b[0;31m \u001b[0ma\u001b[0m \u001b[0;34m=\u001b[0m \u001b[0mFourCal\u001b[0m\u001b[0;34m(\u001b[0m\u001b[0;34m)\u001b[0m\u001b[0;34m\u001b[0m\u001b[0;34m\u001b[0m\u001b[0m\n\u001b[0m",
            "\u001b[0;31mTypeError\u001b[0m: __init__() missing 2 required positional arguments: 'first' and 'second'"
          ]
        }
      ]
    },
    {
      "cell_type": "markdown",
      "source": [
        "생성자 __init__이 호출되어 위와 같은 오류가 발생. <br>\n",
        "오류 발생 이유는 생성자의 매개변수 first와 second가 전달되지 않았기 때문이다."
      ],
      "metadata": {
        "id": "fXWIirn9RqHu"
      }
    },
    {
      "cell_type": "code",
      "source": [
        "a = FourCal(4,2)"
      ],
      "metadata": {
        "id": "IPTKT6h8RpMH"
      },
      "execution_count": 14,
      "outputs": []
    },
    {
      "cell_type": "markdown",
      "source": [
        "### 클래스 상속\n",
        "\n",
        "클래스를 상속하기 위해서는 `class 클래스 이름(상속할 클래스 이름)` 형태를 이용한다 <br>\n",
        "\n",
        "상속을 하는 이유는 기존 클래스가 라이브러리 형태로 제공되거나 수정이 허용되지 않는 상황이라면 상속을 사용해야 한다."
      ],
      "metadata": {
        "id": "ouEwEHd-R4B_"
      }
    },
    {
      "cell_type": "code",
      "source": [
        "class MoreFourCal(FourCal):\n",
        "  pass"
      ],
      "metadata": {
        "id": "_fYWvi6RRzYi"
      },
      "execution_count": 15,
      "outputs": []
    },
    {
      "cell_type": "code",
      "source": [
        "a = MoreFourCal(4,2)\n",
        "a.add()"
      ],
      "metadata": {
        "colab": {
          "base_uri": "https://localhost:8080/"
        },
        "id": "s99kRp3vTIRS",
        "outputId": "9ea91806-f824-40bf-dba3-f3e3b3f9dc6b"
      },
      "execution_count": 16,
      "outputs": [
        {
          "output_type": "execute_result",
          "data": {
            "text/plain": [
              "6"
            ]
          },
          "metadata": {},
          "execution_count": 16
        }
      ]
    },
    {
      "cell_type": "markdown",
      "source": [
        "### 메서드 오버라이딩\n",
        "\n",
        "부모 클래스(상속한 클래스)에 있는 메서드를 동일한 이름으로 다시 만드는 것을 메서드 오버라이딩이라 한다. <br>\n",
        "메서드를 오버라이딩하면 부모 클래스의 메서드 대신 오버라이딩한 메서드가 호출된다."
      ],
      "metadata": {
        "id": "aD1E1MoXTMm8"
      }
    },
    {
      "cell_type": "code",
      "source": [
        "class SafeFourCal(FourCal):\n",
        "  def div(self):\n",
        "    return 0 if self.second == 0 else self.first / self.second"
      ],
      "metadata": {
        "id": "OaxwEy4_TKwV"
      },
      "execution_count": 19,
      "outputs": []
    },
    {
      "cell_type": "code",
      "source": [
        "a = SafeFourCal(4,0)\n",
        "a.div()"
      ],
      "metadata": {
        "colab": {
          "base_uri": "https://localhost:8080/"
        },
        "id": "f8OR21m3T6at",
        "outputId": "ae28a1b8-b05b-44df-e00e-5b29f7b707fb"
      },
      "execution_count": 20,
      "outputs": [
        {
          "output_type": "execute_result",
          "data": {
            "text/plain": [
              "0"
            ]
          },
          "metadata": {},
          "execution_count": 20
        }
      ]
    },
    {
      "cell_type": "markdown",
      "source": [
        "### 클래스 변수\n",
        "\n",
        "클래스 안에 변수를 선언하여 생성한다.\n",
        "\n",
        "`클래스 이름.클래스 변수`로 사용할 수 있다.\n",
        "\n",
        "클래스 변수는 클래스로 만든 객체에 공유된다는 특징이 있다."
      ],
      "metadata": {
        "id": "JttMqFV-UlsX"
      }
    },
    {
      "cell_type": "code",
      "source": [
        "class Family:\n",
        "  lastname = \"kim\""
      ],
      "metadata": {
        "id": "i5m9ikr7UKgv"
      },
      "execution_count": 22,
      "outputs": []
    },
    {
      "cell_type": "code",
      "source": [
        "print(Family.lastname)"
      ],
      "metadata": {
        "colab": {
          "base_uri": "https://localhost:8080/"
        },
        "id": "D3s4j1ZoUxF1",
        "outputId": "35c4294c-12ca-4aae-af3d-8cf93f5912d8"
      },
      "execution_count": 23,
      "outputs": [
        {
          "output_type": "stream",
          "name": "stdout",
          "text": [
            "kim\n"
          ]
        }
      ]
    },
    {
      "cell_type": "code",
      "source": [
        "a = Family()\n",
        "print(Family.lastname)\n",
        "\n",
        "Family.lastname = 'park'\n",
        "print(Family.lastname)"
      ],
      "metadata": {
        "colab": {
          "base_uri": "https://localhost:8080/"
        },
        "id": "c9pNdOiNU0HW",
        "outputId": "e968ffb4-b19c-4a44-e665-778acf388767"
      },
      "execution_count": 25,
      "outputs": [
        {
          "output_type": "stream",
          "name": "stdout",
          "text": [
            "kim\n",
            "park\n"
          ]
        }
      ]
    }
  ]
}