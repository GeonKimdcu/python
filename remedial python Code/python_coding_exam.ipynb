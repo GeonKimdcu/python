{
  "nbformat": 4,
  "nbformat_minor": 0,
  "metadata": {
    "colab": {
      "name": "python-coding-exam.ipynb",
      "provenance": [],
      "collapsed_sections": []
    },
    "kernelspec": {
      "name": "python3",
      "display_name": "Python 3"
    },
    "language_info": {
      "name": "python"
    }
  },
  "cells": [
    {
      "cell_type": "code",
      "execution_count": 1,
      "metadata": {
        "colab": {
          "base_uri": "https://localhost:8080/"
        },
        "id": "ZnOFcL2abuby",
        "outputId": "2c7e076e-434b-4ec4-84fc-3fb5222a5329"
      },
      "outputs": [
        {
          "output_type": "stream",
          "name": "stdout",
          "text": [
            "Mounted at /content/drive\n"
          ]
        }
      ],
      "source": [
        "from google.colab import drive\n",
        "drive.mount('/content/drive')"
      ]
    },
    {
      "cell_type": "code",
      "source": [
        "import os\n",
        "\n",
        "#change path\n",
        "root_dir = \"/content/drive/My Drive/\"\n",
        "base_dir = root_dir + 'python_lesson/python Coding improvement'\n",
        "os.chdir(base_dir)\n",
        "\n",
        "#mount google driver\n",
        "#from google.colab import drive\n",
        "#drive.mount('/content/gdrive', force_remount=True)\n",
        "#root_dir = \"/content/gdrive/My Drive/\""
      ],
      "metadata": {
        "id": "mVsxjoM7b3hu"
      },
      "execution_count": 2,
      "outputs": []
    },
    {
      "cell_type": "markdown",
      "source": [
        "# 파이썬 코딩 시험"
      ],
      "metadata": {
        "id": "jE91-6lmb-7J"
      }
    },
    {
      "cell_type": "markdown",
      "source": [
        "### Q1. 문자열 바꾸기 ★☆☆\n",
        "\n",
        "다음과 같은 문자열이 있다. `a:b:c:d:` <br>\n",
        "문자열의 split와 join 함수를 사용하여 위 문자열을 다음과 같이 고치시오. `a#b#c#d`"
      ],
      "metadata": {
        "id": "ocb7qSugcCaN"
      }
    },
    {
      "cell_type": "code",
      "source": [
        "string = 'a:b:c:d'\n",
        "\n",
        "'#'.join(string.split(':'))"
      ],
      "metadata": {
        "colab": {
          "base_uri": "https://localhost:8080/",
          "height": 35
        },
        "id": "5aQJ_ejbcBuB",
        "outputId": "362a4b2b-b0f5-4824-cd2e-577e1dda638b"
      },
      "execution_count": 6,
      "outputs": [
        {
          "output_type": "execute_result",
          "data": {
            "application/vnd.google.colaboratory.intrinsic+json": {
              "type": "string"
            },
            "text/plain": [
              "'a#b#c#d'"
            ]
          },
          "metadata": {},
          "execution_count": 6
        }
      ]
    },
    {
      "cell_type": "markdown",
      "source": [
        "### Q2. 딕셔너리 값 추출하기 ★☆☆\n",
        "\n",
        "다음은 딕셔너리의 a에서 'C'라는 key에 해당하는 value를 출력하는 프로그램이다.\n",
        "\n",
        "`>>> a = {'A':90, 'B':80}`\n",
        "```\n",
        ">>> a['C']\n",
        "Traceback (most recent call last):\n",
        "  File \"<stdin>\", line 1, in <module>\n",
        "KeyError: 'C'\n",
        "```\n",
        "a 딕셔너리에는 'C'라는 key가 없으므로 위와 같은 오류가 발생한다. 'C'에 해당하는 key 값이 없을 경우 오류 대신 70을 얻을 수 있도록 수정하시오."
      ],
      "metadata": {
        "id": "F2X3AcuMdwpG"
      }
    },
    {
      "cell_type": "code",
      "source": [
        "a = {'A':90, 'B':80}\n",
        "a.get('C', 70)"
      ],
      "metadata": {
        "colab": {
          "base_uri": "https://localhost:8080/"
        },
        "id": "k4aqOPY0cvBl",
        "outputId": "3073ed64-0313-4c06-b875-35766ca6f36d"
      },
      "execution_count": 13,
      "outputs": [
        {
          "output_type": "execute_result",
          "data": {
            "text/plain": [
              "70"
            ]
          },
          "metadata": {},
          "execution_count": 13
        }
      ]
    },
    {
      "cell_type": "markdown",
      "source": [
        "### Q3. 리스트의 더하기와 extend 함수 ★★☆\n",
        "\n",
        "다음과 같은 리스트 a가 있다. `a = [1,2,3]` <br>\n",
        "리스트 a에 [4,5]를 + 기호를 사용하여 더한 결과는 다음과 같다. <br>\n",
        "```\n",
        ">>> a = [1,2,3]\n",
        ">>> a = a + [4,5]\n",
        ">> a\n",
        "[1,2,3,4,5]\n",
        "```\n",
        "\n",
        "리스트 a에 [4,5]를 extend를 사용하여 더한 결과는 다음과 같다. <br>\n",
        "```\n",
        ">>> a = [1,2,3]\n",
        ">>> a.extend([4,5])\n",
        ">>> a\n",
        "[1,2,3,4,5]\n",
        "```\n",
        "\n",
        "+기호를 사용하여 더한 것과 extend한 것의 차이점이 있을까? 있다면 그 차이점을 설명하시오.\n",
        "\n",
        "> + 기호를 사용하면 두 리스트가 더해진 새로운 리스트가 반환된다. 하지만 extend를 사용하면 기존 리스트 a에 값이 추가되며 그대로 유지된다."
      ],
      "metadata": {
        "id": "QrCV79flfhEG"
      }
    },
    {
      "cell_type": "code",
      "source": [
        "a = [1,2,3]\n",
        "print(id(a))\n",
        "a = a+ [4,5]\n",
        "print(id(a))"
      ],
      "metadata": {
        "colab": {
          "base_uri": "https://localhost:8080/"
        },
        "id": "wRVVNTL9feg8",
        "outputId": "baa244dc-795b-408a-92ac-3024e5dbc938"
      },
      "execution_count": 18,
      "outputs": [
        {
          "output_type": "stream",
          "name": "stdout",
          "text": [
            "140711474061136\n",
            "140711474076080\n"
          ]
        }
      ]
    },
    {
      "cell_type": "code",
      "source": [
        "a = [1,2,3]\n",
        "print(id(a))\n",
        "a.extend([4,5])\n",
        "print(id(a))"
      ],
      "metadata": {
        "colab": {
          "base_uri": "https://localhost:8080/"
        },
        "id": "CtD9XZNAgvO4",
        "outputId": "35e71f80-ca5d-44b3-bee3-f209a0be6314"
      },
      "execution_count": 17,
      "outputs": [
        {
          "output_type": "stream",
          "name": "stdout",
          "text": [
            "140711473879792\n",
            "140711473879792\n"
          ]
        }
      ]
    },
    {
      "cell_type": "markdown",
      "source": [
        "### Q4. 리스트 총합 구하기 ★★☆\n",
        "\n",
        "다음은 A학급 학생의 점수를 나타내는 리스트이다. 다음 리스트에서 50점 이상 점수의 총합을 구하시오."
      ],
      "metadata": {
        "id": "nJn_FTwGg-ag"
      }
    },
    {
      "cell_type": "code",
      "source": [
        "A = [20, 55, 67, 82, 45, 33, 90, 87, 100, 25]\n",
        "sum(list(filter(lambda x: x >= 50, A)))"
      ],
      "metadata": {
        "colab": {
          "base_uri": "https://localhost:8080/"
        },
        "id": "RP3hUTYGgz-q",
        "outputId": "7aedd64a-7b67-4cf1-8924-faaed3fe714b"
      },
      "execution_count": 42,
      "outputs": [
        {
          "output_type": "execute_result",
          "data": {
            "text/plain": [
              "481"
            ]
          },
          "metadata": {},
          "execution_count": 42
        }
      ]
    },
    {
      "cell_type": "markdown",
      "source": [
        "### Q5. 피보나치 함수 ★★★\n",
        "\n",
        "첫 번째 항의 값이 0이고 두 번째 항의 값이 1일 때, 이후에 이어지는 항은 이전의 두 항을 더한 값으로 이루어지는 수열을 피보나치 수열이라고 한다.\n",
        "\n",
        "`0,1,1,2,3,5,8,13...` <br>\n",
        "입력을 정수 n 으로 받았을 때, n 이하까지의 피보나치 수열을 출력하는 함수를 작성해 보자."
      ],
      "metadata": {
        "id": "zG6I2QG-pjQd"
      }
    },
    {
      "cell_type": "code",
      "source": [
        "def fibo(n):\n",
        "  fibo_list = [0, 1]\n",
        "  i = 0\n",
        "  if n == 0 or n <= 0:\n",
        "    return print(\"0보다 큰 정수 n을 입력해주세요.\")\n",
        "  else:\n",
        "    while True:\n",
        "      x = fibo_list[i]\n",
        "      y = fibo_list[i+1]\n",
        "      z = x + y\n",
        "      i+=1\n",
        "      if z > n:\n",
        "        return print(fibo_list)\n",
        "      else:\n",
        "        fibo_list.append(z)\n",
        "\n",
        "n = int(input())\n",
        "fibo(n)"
      ],
      "metadata": {
        "colab": {
          "base_uri": "https://localhost:8080/"
        },
        "id": "d24YMlten2GY",
        "outputId": "9496c9c2-aa9e-46fe-c98f-d1246a146005"
      },
      "execution_count": 52,
      "outputs": [
        {
          "output_type": "stream",
          "name": "stdout",
          "text": [
            "15\n",
            "[0, 1, 1, 2, 3, 5, 8, 13]\n"
          ]
        }
      ]
    },
    {
      "cell_type": "markdown",
      "source": [
        "### Q6. 숫자의 총합 구하기 ★★☆\n",
        "\n",
        "사용자로부터 다음과 같은 숫자를 입력받아 입력받은 숫자의 총합을 구하는 프로그램을 작성하시오. (단 숫자는 콤마로 구분하여 입력한다.)\n",
        "\n",
        "`65, 45, 2, 3, 45, 8`"
      ],
      "metadata": {
        "id": "3VhU030Q1B1b"
      }
    },
    {
      "cell_type": "code",
      "source": [
        "number = input()\n",
        "number = number.split(',')\n",
        "total = sum([int(x) for x in number])\n",
        "total"
      ],
      "metadata": {
        "colab": {
          "base_uri": "https://localhost:8080/"
        },
        "id": "SsDJHronrIac",
        "outputId": "9eccfdaa-8814-45e6-e351-f9bd92598b8e"
      },
      "execution_count": 55,
      "outputs": [
        {
          "name": "stdout",
          "output_type": "stream",
          "text": [
            "65,45,2,3,45,8\n"
          ]
        },
        {
          "output_type": "execute_result",
          "data": {
            "text/plain": [
              "168"
            ]
          },
          "metadata": {},
          "execution_count": 55
        }
      ]
    },
    {
      "cell_type": "markdown",
      "source": [
        "### Q7. 한 줄 구구단 ★★☆\n",
        "\n",
        "사용지로부터 2~9의 숫자 중 하나를 입력받아 해당 숫자의 구구단을 한 줄로 출력하는 프로그램을 작성하시오.\n",
        "\n",
        "```\n",
        "구구단을 출력할 숫자를 입력하세요(2~9): 2\n",
        "2 4 6 8 10 12 14 16 18\n",
        "```"
      ],
      "metadata": {
        "id": "YElhDmpa2NVM"
      }
    },
    {
      "cell_type": "code",
      "source": [
        "num = int(input(\"구구단을 출력할 숫자를 입력하세요(2~9):\"))\n",
        "[num*i for i in range(1,10)]"
      ],
      "metadata": {
        "colab": {
          "base_uri": "https://localhost:8080/"
        },
        "id": "Aug0K6e62AP9",
        "outputId": "ff2af28b-ffc0-409b-b526-46e9f4850e57"
      },
      "execution_count": 64,
      "outputs": [
        {
          "name": "stdout",
          "output_type": "stream",
          "text": [
            "구구단을 출력할 숫자를 입력하세요(2~9):4\n"
          ]
        },
        {
          "output_type": "execute_result",
          "data": {
            "text/plain": [
              "[4, 8, 12, 16, 20, 24, 28, 32, 36]"
            ]
          },
          "metadata": {},
          "execution_count": 64
        }
      ]
    },
    {
      "cell_type": "markdown",
      "source": [
        "### Q8. 역순 저장 ★☆☆\n",
        "\n",
        "다음과 같은 내용의 파일 abc.txt가 있다.\n",
        "\n",
        "```\n",
        "AAA\n",
        "BBB\n",
        "CCC\n",
        "DDD\n",
        "EEE\n",
        "```\n",
        "\n",
        "이 파일의 내용을 역순으로 바꾸어 저장하시오."
      ],
      "metadata": {
        "id": "In6T8kBw4LxI"
      }
    },
    {
      "cell_type": "code",
      "source": [
        "data = '''\n",
        "AAA\n",
        "BBB\n",
        "CCC\n",
        "DDD\n",
        "EEE\n",
        "'''\n",
        "\n",
        "with open('./text/abc.txt', 'w') as f:\n",
        "  f.write(data)"
      ],
      "metadata": {
        "id": "_uQnrnAA2_Um"
      },
      "execution_count": 82,
      "outputs": []
    },
    {
      "cell_type": "code",
      "source": [
        "with open('./text/abc.txt', 'r') as f:\n",
        "  lines = f.readlines()\n",
        "\n",
        "lines.reverse()\n",
        "\n",
        "with open('./text/abc.txt', 'w') as f:\n",
        "  for line in lines:\n",
        "    line = line.strip()\n",
        "    f.write(line)\n",
        "    f.write('\\n')"
      ],
      "metadata": {
        "id": "lW5QW-5J52na"
      },
      "execution_count": 83,
      "outputs": []
    }
  ]
}