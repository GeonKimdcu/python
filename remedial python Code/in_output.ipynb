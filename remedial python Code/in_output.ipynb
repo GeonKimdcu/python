{
  "nbformat": 4,
  "nbformat_minor": 0,
  "metadata": {
    "colab": {
      "name": "in-output.ipynb",
      "provenance": [],
      "collapsed_sections": []
    },
    "kernelspec": {
      "name": "python3",
      "display_name": "Python 3"
    },
    "language_info": {
      "name": "python"
    }
  },
  "cells": [
    {
      "cell_type": "code",
      "execution_count": 1,
      "metadata": {
        "colab": {
          "base_uri": "https://localhost:8080/"
        },
        "id": "78LhcQtStrsi",
        "outputId": "8978338d-c459-4b58-c8cc-22fc3a60f111"
      },
      "outputs": [
        {
          "output_type": "stream",
          "name": "stdout",
          "text": [
            "Mounted at /content/drive\n"
          ]
        }
      ],
      "source": [
        "from google.colab import drive\n",
        "drive.mount('/content/drive')"
      ]
    },
    {
      "cell_type": "code",
      "source": [
        "import os\n",
        "\n",
        "#change path\n",
        "root_dir = \"/content/drive/My Drive/\"\n",
        "base_dir = root_dir + 'python_lesson/python Coding improvement'\n",
        "os.chdir(base_dir)\n",
        "\n",
        "#mount google driver\n",
        "#from google.colab import drive\n",
        "#drive.mount('/content/gdrive', force_remount=True)\n",
        "#root_dir = \"/content/gdrive/My Drive/\""
      ],
      "metadata": {
        "id": "xCdxUqB9txwa"
      },
      "execution_count": 2,
      "outputs": []
    },
    {
      "cell_type": "markdown",
      "source": [
        "파이썬 코드 가독성을 높이기 위해 코딩 습관을 개선시키자는 목적하에 작성됨.\n",
        "\n",
        "---"
      ],
      "metadata": {
        "id": "xWT8MOMmt_1j"
      }
    },
    {
      "cell_type": "markdown",
      "source": [
        "### 입력값이 몇 개가 될지 모를 때\n",
        "\n",
        "함수형태에서 괄호 안의 매개변수 부분을 *매개변수 형태로 바꿔준다.\n",
        "\n",
        "def 함수이름(*매개변수): <br>\n",
        "  수행할 문장"
      ],
      "metadata": {
        "id": "JZA33N-TuIh4"
      }
    },
    {
      "cell_type": "code",
      "source": [
        "def add_many(*args):\n",
        "  result = 0\n",
        "  for i in args: result+=i\n",
        "  return result"
      ],
      "metadata": {
        "id": "RNMBiaLut5Z-"
      },
      "execution_count": 4,
      "outputs": []
    },
    {
      "cell_type": "code",
      "source": [
        "add_many(1,2,3)"
      ],
      "metadata": {
        "colab": {
          "base_uri": "https://localhost:8080/"
        },
        "id": "hnJxI1UvvPBT",
        "outputId": "d22fdaa2-caff-45f6-ddfc-702f6b9d774f"
      },
      "execution_count": 5,
      "outputs": [
        {
          "output_type": "execute_result",
          "data": {
            "text/plain": [
              "6"
            ]
          },
          "metadata": {},
          "execution_count": 5
        }
      ]
    },
    {
      "cell_type": "code",
      "source": [
        "add_many(1,2,3,4,5,6,7,8,9)"
      ],
      "metadata": {
        "colab": {
          "base_uri": "https://localhost:8080/"
        },
        "id": "5KV4PnFXvhhI",
        "outputId": "16ec2010-7bb8-416a-a7ff-91c0898f3c25"
      },
      "execution_count": 6,
      "outputs": [
        {
          "output_type": "execute_result",
          "data": {
            "text/plain": [
              "45"
            ]
          },
          "metadata": {},
          "execution_count": 6
        }
      ]
    },
    {
      "cell_type": "markdown",
      "source": [
        "### 키워드 파라미터\n",
        "\n",
        "매개변수 앞에 **를 붙이면 키워드 파라미터를 사용할 수 있다. 이는 딕셔너리로 만들어진다."
      ],
      "metadata": {
        "id": "SYY3x6qWvuYw"
      }
    },
    {
      "cell_type": "code",
      "source": [
        "def print_kwargs(**kwargs):\n",
        "  print(kwargs)"
      ],
      "metadata": {
        "id": "1Q6qjshMvjgG"
      },
      "execution_count": 7,
      "outputs": []
    },
    {
      "cell_type": "code",
      "source": [
        "print_kwargs(a=1)"
      ],
      "metadata": {
        "colab": {
          "base_uri": "https://localhost:8080/"
        },
        "id": "tnmqFjptwChK",
        "outputId": "1a50bc8e-333f-47b1-ea20-dc5fcfeb0686"
      },
      "execution_count": 8,
      "outputs": [
        {
          "output_type": "stream",
          "name": "stdout",
          "text": [
            "{'a': 1}\n"
          ]
        }
      ]
    },
    {
      "cell_type": "code",
      "source": [
        "print_kwargs(name='foo', age=3)"
      ],
      "metadata": {
        "colab": {
          "base_uri": "https://localhost:8080/"
        },
        "id": "0Dl9u_YOwFQX",
        "outputId": "afc21519-66f6-4d60-daff-a7899679058f"
      },
      "execution_count": 9,
      "outputs": [
        {
          "output_type": "stream",
          "name": "stdout",
          "text": [
            "{'name': 'foo', 'age': 3}\n"
          ]
        }
      ]
    },
    {
      "cell_type": "markdown",
      "source": [
        "### 매개변수에 초깃값 미리 설정하기\n",
        "\n",
        "초기화시키고 싶은 매개변수를 항상 뒤쪽에 놓기"
      ],
      "metadata": {
        "id": "rp9-Lc2EwuOl"
      }
    },
    {
      "cell_type": "code",
      "source": [
        "def say_myself(name, old, man=True):\n",
        "  print(\"나의 이름은 %s입니다.\" %name)\n",
        "  print(\"나이는 %d살 입니다.\" %old)\n",
        "  if man:\n",
        "    print(\"남자입니다.\")\n",
        "  else:\n",
        "    print(\"여자입니다.\")"
      ],
      "metadata": {
        "id": "Vl0HY-eswIQI"
      },
      "execution_count": 10,
      "outputs": []
    },
    {
      "cell_type": "code",
      "source": [
        "say_myself(\"김건\", 27)"
      ],
      "metadata": {
        "colab": {
          "base_uri": "https://localhost:8080/"
        },
        "id": "Qc2fY-EtxE4a",
        "outputId": "8a6e6852-8750-4de6-f9cf-27d2b937a1fb"
      },
      "execution_count": 11,
      "outputs": [
        {
          "output_type": "stream",
          "name": "stdout",
          "text": [
            "나의 이름은 김건입니다.\n",
            "나이는 27살 입니다.\n",
            "남자입니다.\n"
          ]
        }
      ]
    },
    {
      "cell_type": "code",
      "source": [
        "say_myself(\"김건\", 27, False)"
      ],
      "metadata": {
        "colab": {
          "base_uri": "https://localhost:8080/"
        },
        "id": "01QJ9d1IxM3Y",
        "outputId": "b1d860a0-6b0a-484b-dc00-b2b2b94bdde3"
      },
      "execution_count": 12,
      "outputs": [
        {
          "output_type": "stream",
          "name": "stdout",
          "text": [
            "나의 이름은 김건입니다.\n",
            "나이는 27살 입니다.\n",
            "여자입니다.\n"
          ]
        }
      ]
    },
    {
      "cell_type": "code",
      "source": [
        "# 초기화 매개변수 맨 마지막이 아닐 경우 발생하는 에러.\n",
        "\n",
        "def say_myself(name, man=True, old):\n",
        "  print(\"나의 이름은 %s입니다.\" %name)\n",
        "  print(\"나이는 %d살 입니다.\" %old)\n",
        "  if man:\n",
        "    print(\"남자입니다.\")\n",
        "  else:\n",
        "    print(\"여자입니다.\")"
      ],
      "metadata": {
        "colab": {
          "base_uri": "https://localhost:8080/",
          "height": 131
        },
        "id": "PlG7VjTSxIfu",
        "outputId": "7d5cbe06-85a9-4e35-8a13-def3bd312316"
      },
      "execution_count": 13,
      "outputs": [
        {
          "output_type": "error",
          "ename": "SyntaxError",
          "evalue": "ignored",
          "traceback": [
            "\u001b[0;36m  File \u001b[0;32m\"<ipython-input-13-cbfaacaddf06>\"\u001b[0;36m, line \u001b[0;32m1\u001b[0m\n\u001b[0;31m    def say_myself(name, man=True, old):\u001b[0m\n\u001b[0m                  ^\u001b[0m\n\u001b[0;31mSyntaxError\u001b[0m\u001b[0;31m:\u001b[0m non-default argument follows default argument\n"
          ]
        }
      ]
    },
    {
      "cell_type": "markdown",
      "source": [
        "### global 명령어\n",
        "\n",
        "global 명령어는 함수 안에서 함수 밖의 변수를 직접 사용하겠다는 의미"
      ],
      "metadata": {
        "id": "Z9Qd6P5lz9Ff"
      }
    },
    {
      "cell_type": "code",
      "source": [
        "a = 1\n",
        "def vartest():\n",
        "  global a\n",
        "  a+=1\n",
        "\n",
        "vartest()\n",
        "print(a)"
      ],
      "metadata": {
        "colab": {
          "base_uri": "https://localhost:8080/"
        },
        "id": "8qenc0J9xWaj",
        "outputId": "9a0000e5-273a-4f2a-948f-9a998a396954"
      },
      "execution_count": 14,
      "outputs": [
        {
          "output_type": "stream",
          "name": "stdout",
          "text": [
            "2\n"
          ]
        }
      ]
    },
    {
      "cell_type": "code",
      "source": [
        "a = 1\n",
        "def vartest(a):\n",
        "  a+=1\n",
        "  return a\n",
        "\n",
        "a = vartest(a)\n",
        "print(a)"
      ],
      "metadata": {
        "colab": {
          "base_uri": "https://localhost:8080/"
        },
        "id": "CpJphkRZ0Na6",
        "outputId": "da815648-eb4f-4180-d8b5-a90baded1904"
      },
      "execution_count": 18,
      "outputs": [
        {
          "output_type": "stream",
          "name": "stdout",
          "text": [
            "2\n"
          ]
        }
      ]
    },
    {
      "cell_type": "markdown",
      "source": [
        "### lambda\n",
        "\n",
        "lambda는 함수를 생성할 때 사용하는 예약어로 def와 동일한 역할. <br>\n",
        "함수를 한줄로 간결하게 만들 때 사용.\n",
        "\n",
        "`lambda 매개변수1, 매개변수2, ...: 매개변수를 사용한 표현식`"
      ],
      "metadata": {
        "id": "Kcaculnw0c29"
      }
    },
    {
      "cell_type": "code",
      "source": [
        "add = lambda a,b: a+b\n",
        "add(3,4)"
      ],
      "metadata": {
        "colab": {
          "base_uri": "https://localhost:8080/"
        },
        "id": "e2mz3ncm0TOg",
        "outputId": "180ded98-b92f-4825-b583-1a925ea3cde9"
      },
      "execution_count": 19,
      "outputs": [
        {
          "output_type": "execute_result",
          "data": {
            "text/plain": [
              "7"
            ]
          },
          "metadata": {},
          "execution_count": 19
        }
      ]
    },
    {
      "cell_type": "markdown",
      "source": [
        "### 파일 읽고 쓰기\n",
        "\n",
        "`파일 객체 = open(파일 이름, 파일 열기 모드)`\n",
        "\n",
        "- r: 읽기 모드, 파일을 읽기만 할 때\n",
        "- w: 쓰기 모드, 파일에 내용 쓸 때\n",
        "- a: 추가 모드, 기존 파일에 내용 추가할 때"
      ],
      "metadata": {
        "id": "vRzk9BiS3Qov"
      }
    },
    {
      "cell_type": "code",
      "source": [
        "f = open(\"./text/새파일.txt\", 'w')\n",
        "f.close()"
      ],
      "metadata": {
        "id": "QvLZpsrb01sB"
      },
      "execution_count": 23,
      "outputs": []
    },
    {
      "cell_type": "code",
      "source": [
        "# 파일을 쓰기 모드로 열어 출력값 적기\n",
        "\n",
        "f = open('./text/새파일.txt', 'w')\n",
        "for i in range(1,11):\n",
        "  data = \"%d번째 줄입니다.\\n\" %i\n",
        "  f.write(data) # data를 파일 객체 f에 써라\n",
        "f.close()"
      ],
      "metadata": {
        "id": "IzSepudz3iwC"
      },
      "execution_count": 25,
      "outputs": []
    },
    {
      "cell_type": "markdown",
      "source": [
        "### 프로그램의 외부에 저장된 파일을 읽는 여러 가지 방법"
      ],
      "metadata": {
        "id": "ZzcMzgon49XP"
      }
    },
    {
      "cell_type": "code",
      "source": [
        "# readline 함수 사용(file 첫 번째 줄 읽어 출력)\n",
        "\n",
        "f = open(\"./text/새파일.txt\", 'r')\n",
        "line = f.readline()\n",
        "print(line)\n",
        "f.close()"
      ],
      "metadata": {
        "colab": {
          "base_uri": "https://localhost:8080/"
        },
        "id": "uKzf4JKe4YRu",
        "outputId": "41a23f89-46d6-4b63-ad27-e93c213187f7"
      },
      "execution_count": 26,
      "outputs": [
        {
          "output_type": "stream",
          "name": "stdout",
          "text": [
            "1번째 줄입니다.\n",
            "\n"
          ]
        }
      ]
    },
    {
      "cell_type": "code",
      "source": [
        "f = open(\"./text/새파일.txt\", 'r')\n",
        "while True:\n",
        "  line = f.readline()\n",
        "  if not line:break\n",
        "  print(line)\n",
        "f.close()"
      ],
      "metadata": {
        "colab": {
          "base_uri": "https://localhost:8080/"
        },
        "id": "are32DNg5jCN",
        "outputId": "4df7f215-7683-48e2-8b8d-a7af5c49effb"
      },
      "execution_count": 27,
      "outputs": [
        {
          "output_type": "stream",
          "name": "stdout",
          "text": [
            "1번째 줄입니다.\n",
            "\n",
            "2번째 줄입니다.\n",
            "\n",
            "3번째 줄입니다.\n",
            "\n",
            "4번째 줄입니다.\n",
            "\n",
            "5번째 줄입니다.\n",
            "\n",
            "6번째 줄입니다.\n",
            "\n",
            "7번째 줄입니다.\n",
            "\n",
            "8번째 줄입니다.\n",
            "\n",
            "9번째 줄입니다.\n",
            "\n",
            "10번째 줄입니다.\n",
            "\n"
          ]
        }
      ]
    },
    {
      "cell_type": "code",
      "source": [
        "# readlines 함수 사용(파일 모든 줄을 읽어서 각각의 줄을 요소로 갖는 리스트로 반환)\n",
        "\n",
        "f = open(\"./text/새파일.txt\", 'r')\n",
        "lines = f.readlines()\n",
        "for line in lines: print(line)\n",
        "f.close()\n",
        "\n",
        "print(lines)"
      ],
      "metadata": {
        "colab": {
          "base_uri": "https://localhost:8080/"
        },
        "id": "WdIw4gPp6IYX",
        "outputId": "79550b98-220f-4da9-fb2a-89f22537fd3e"
      },
      "execution_count": 30,
      "outputs": [
        {
          "output_type": "stream",
          "name": "stdout",
          "text": [
            "1번째 줄입니다.\n",
            "\n",
            "2번째 줄입니다.\n",
            "\n",
            "3번째 줄입니다.\n",
            "\n",
            "4번째 줄입니다.\n",
            "\n",
            "5번째 줄입니다.\n",
            "\n",
            "6번째 줄입니다.\n",
            "\n",
            "7번째 줄입니다.\n",
            "\n",
            "8번째 줄입니다.\n",
            "\n",
            "9번째 줄입니다.\n",
            "\n",
            "10번째 줄입니다.\n",
            "\n",
            "['1번째 줄입니다.\\n', '2번째 줄입니다.\\n', '3번째 줄입니다.\\n', '4번째 줄입니다.\\n', '5번째 줄입니다.\\n', '6번째 줄입니다.\\n', '7번째 줄입니다.\\n', '8번째 줄입니다.\\n', '9번째 줄입니다.\\n', '10번째 줄입니다.\\n']\n"
          ]
        }
      ]
    },
    {
      "cell_type": "code",
      "source": [
        "# read 함수 사용(파일 내용 전체 문자열로 반환)\n",
        "\n",
        "f = open(\"./text/새파일.txt\", 'r')\n",
        "data = f.read()\n",
        "print(data)\n",
        "f.close()"
      ],
      "metadata": {
        "colab": {
          "base_uri": "https://localhost:8080/"
        },
        "id": "w7uVBwBl6oKr",
        "outputId": "660b7914-2a2a-46bd-85dd-35f79caae391"
      },
      "execution_count": 31,
      "outputs": [
        {
          "output_type": "stream",
          "name": "stdout",
          "text": [
            "1번째 줄입니다.\n",
            "2번째 줄입니다.\n",
            "3번째 줄입니다.\n",
            "4번째 줄입니다.\n",
            "5번째 줄입니다.\n",
            "6번째 줄입니다.\n",
            "7번째 줄입니다.\n",
            "8번째 줄입니다.\n",
            "9번째 줄입니다.\n",
            "10번째 줄입니다.\n",
            "\n"
          ]
        }
      ]
    },
    {
      "cell_type": "code",
      "source": [
        "f1 = open(\"./text/text.txt\", 'w')\n",
        "f1.write(\"Life is too short\")\n",
        "\n",
        "f2 = open(\"./text/text.txt\", 'r')\n",
        "print(f2.read())"
      ],
      "metadata": {
        "colab": {
          "base_uri": "https://localhost:8080/"
        },
        "id": "GDvPOD0k-hNu",
        "outputId": "c881f77f-3dab-46c5-e7d9-64645805bd53"
      },
      "execution_count": 37,
      "outputs": [
        {
          "output_type": "stream",
          "name": "stdout",
          "text": [
            "\n"
          ]
        }
      ]
    },
    {
      "cell_type": "code",
      "source": [
        "f1 = open(\"./text/text.txt\", 'w')\n",
        "f1.write(\"Life is too short\")\n",
        "f1.close()\n",
        "\n",
        "f2 = open(\"./text/text.txt\", 'r')\n",
        "print(f2.read())"
      ],
      "metadata": {
        "colab": {
          "base_uri": "https://localhost:8080/"
        },
        "id": "hmi752eU-wWL",
        "outputId": "c5d883eb-6516-4afa-c0b7-c6696700a04c"
      },
      "execution_count": 38,
      "outputs": [
        {
          "output_type": "stream",
          "name": "stdout",
          "text": [
            "Life is too short\n"
          ]
        }
      ]
    },
    {
      "cell_type": "code",
      "source": [
        "with open(\"./text/test.txt\", 'w') as f1:\n",
        "  f1.write(\"Life is too short\")\n",
        "\n",
        "with open(\"./text/test.txt\", 'r') as f2:\n",
        "  print(f2.read())"
      ],
      "metadata": {
        "colab": {
          "base_uri": "https://localhost:8080/"
        },
        "id": "d63iWF389HoS",
        "outputId": "79b3d21c-defb-4e57-e75c-799993711643"
      },
      "execution_count": 36,
      "outputs": [
        {
          "output_type": "stream",
          "name": "stdout",
          "text": [
            "Life is too short\n"
          ]
        }
      ]
    },
    {
      "cell_type": "markdown",
      "source": [
        "### with 문\n",
        "\n",
        "with 블록을 벗어나는 순간 열린 파일 객체 f가 자동으로 close되어 편리"
      ],
      "metadata": {
        "id": "Gr_6JC4t7nt0"
      }
    },
    {
      "cell_type": "code",
      "source": [
        "with open(\"./text/foo.txt\",'w') as f:\n",
        "  f.write(\"this to shall pass\")"
      ],
      "metadata": {
        "id": "o3R7HpF37hxZ"
      },
      "execution_count": 33,
      "outputs": []
    }
  ]
}