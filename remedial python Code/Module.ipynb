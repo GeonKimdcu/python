{
  "nbformat": 4,
  "nbformat_minor": 0,
  "metadata": {
    "colab": {
      "name": "Module.ipynb",
      "provenance": [],
      "collapsed_sections": []
    },
    "kernelspec": {
      "name": "python3",
      "display_name": "Python 3"
    },
    "language_info": {
      "name": "python"
    }
  },
  "cells": [
    {
      "cell_type": "code",
      "execution_count": 1,
      "metadata": {
        "colab": {
          "base_uri": "https://localhost:8080/"
        },
        "id": "uYkMqOTbcm_T",
        "outputId": "dfed68c3-5bef-417f-a83f-b4ed559415d8"
      },
      "outputs": [
        {
          "output_type": "stream",
          "name": "stdout",
          "text": [
            "Mounted at /content/drive\n"
          ]
        }
      ],
      "source": [
        "from google.colab import drive\n",
        "drive.mount('/content/drive')"
      ]
    },
    {
      "cell_type": "code",
      "source": [
        "import os\n",
        "\n",
        "#change path\n",
        "root_dir = \"/content/drive/My Drive/\"\n",
        "base_dir = root_dir + 'python_lesson/python Coding improvement'\n",
        "os.chdir(base_dir)\n",
        "\n",
        "#mount google driver\n",
        "#from google.colab import drive\n",
        "#drive.mount('/content/gdrive', force_remount=True)\n",
        "#root_dir = \"/content/gdrive/My Drive/\""
      ],
      "metadata": {
        "id": "Wk5sq3XOcuHR"
      },
      "execution_count": 2,
      "outputs": []
    },
    {
      "cell_type": "markdown",
      "source": [
        "파이썬 코드 가독성을 높이기 위해 코딩 습관을 개선시키자는 목적하에 작성됨.\n",
        "\n",
        "---"
      ],
      "metadata": {
        "id": "xWIcl-lscxmC"
      }
    },
    {
      "cell_type": "markdown",
      "source": [
        "### 모듈\n",
        "\n",
        "모듈이란 함수나 변수 또는 클래스를 모아 놓은 파일."
      ],
      "metadata": {
        "id": "3syRMnjAdwB5"
      }
    },
    {
      "cell_type": "markdown",
      "source": [
        "### if \\_\\_name\\_\\_ == \"\\_\\_main\\_\\_\":의 의미\n",
        "\n",
        "mod1.py 파일을 이렇게 저장 후 import mod1을 수행하는 순간 mod1.py가 실행되어 결괏값을 출력함."
      ],
      "metadata": {
        "id": "R_0rECyOoVh1"
      }
    },
    {
      "cell_type": "code",
      "source": [
        "# mod1.py\n",
        "\n",
        "def add(a, b):\n",
        "  return a+b\n",
        "\n",
        "def sub(a,b):\n",
        "  return a-b\n",
        "\n",
        "print(add(1,4))\n",
        "print(sub(4,2))"
      ],
      "metadata": {
        "id": "17YYjbuwcx1z"
      },
      "execution_count": 3,
      "outputs": []
    },
    {
      "cell_type": "markdown",
      "source": [
        "if \\_\\_name\\_\\_ == \"\\_\\_main\\_\\_\"을 사용하면 직접 이 파일을 실행했을 때는 참이 되어 if문 다음 문장이 수행된다. 반대로 대화형 인터프리터나 다른 파일에서 이 모듈을 불러서 사용할 떄는 거짓이 되어 if문 다음 문장이 수행되지 않는다."
      ],
      "metadata": {
        "id": "nO7uAL2NqjdQ"
      }
    },
    {
      "cell_type": "code",
      "source": [
        "# mod1.py\n",
        "\n",
        "def add(a, b):\n",
        "  return a+b\n",
        "\n",
        "def sub(a,b):\n",
        "  return a-b\n",
        "\n",
        "if __name__ == \"__main__\":\n",
        "print(add(1,4))\n",
        "print(sub(4,2))"
      ],
      "metadata": {
        "colab": {
          "base_uri": "https://localhost:8080/"
        },
        "id": "2isCd6L3o3R0",
        "outputId": "111d63d0-7850-449c-d7d2-b7737c235039"
      },
      "execution_count": 4,
      "outputs": [
        {
          "output_type": "stream",
          "name": "stdout",
          "text": [
            "5\n",
            "2\n"
          ]
        }
      ]
    }
  ]
}