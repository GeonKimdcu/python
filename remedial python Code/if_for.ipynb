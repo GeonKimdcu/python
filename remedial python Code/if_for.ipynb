{
  "nbformat": 4,
  "nbformat_minor": 0,
  "metadata": {
    "colab": {
      "name": "if_for.ipynb",
      "provenance": [],
      "collapsed_sections": []
    },
    "kernelspec": {
      "name": "python3",
      "display_name": "Python 3"
    },
    "language_info": {
      "name": "python"
    }
  },
  "cells": [
    {
      "cell_type": "code",
      "execution_count": 1,
      "metadata": {
        "colab": {
          "base_uri": "https://localhost:8080/"
        },
        "id": "A0BEocOF6rbe",
        "outputId": "889e47e1-ab35-43d2-91bc-938f21ee3e8f"
      },
      "outputs": [
        {
          "output_type": "stream",
          "name": "stdout",
          "text": [
            "Mounted at /content/drive\n"
          ]
        }
      ],
      "source": [
        "from google.colab import drive\n",
        "drive.mount('/content/drive')"
      ]
    },
    {
      "cell_type": "code",
      "source": [
        "import os\n",
        "\n",
        "#change path\n",
        "root_dir = \"/content/drive/My Drive/\"\n",
        "base_dir = root_dir + 'python_lesson/python Coding improvement'\n",
        "os.chdir(base_dir)\n",
        "\n",
        "#mount google driver\n",
        "#from google.colab import drive\n",
        "#drive.mount('/content/gdrive', force_remount=True)\n",
        "#root_dir = \"/content/gdrive/My Drive/\"\n"
      ],
      "metadata": {
        "id": "5iMfRpNU6wpv"
      },
      "execution_count": 2,
      "outputs": []
    },
    {
      "cell_type": "markdown",
      "source": [
        "파이썬 코드 가독성을 높이기 위해 코딩 습관을 개선시키자는 목적하에 작성됨.\n",
        "\n",
        "---"
      ],
      "metadata": {
        "id": "pHclsSEF7nKu"
      }
    },
    {
      "cell_type": "markdown",
      "source": [
        "# 1. if문 한줄로 작성하기"
      ],
      "metadata": {
        "id": "VtZ8COA274EI"
      }
    },
    {
      "cell_type": "code",
      "source": [
        "pocket = ['paper', 'money', 'cellphone']\n",
        "\n",
        "if 'money' in pocket:\n",
        "  print(\"money\")\n",
        "else:\n",
        "  print(\"anything\")"
      ],
      "metadata": {
        "colab": {
          "base_uri": "https://localhost:8080/"
        },
        "id": "Eb8XgOi67vPN",
        "outputId": "0dc17065-47dc-4da8-b84a-4db717caf51a"
      },
      "execution_count": 3,
      "outputs": [
        {
          "output_type": "stream",
          "name": "stdout",
          "text": [
            "money\n"
          ]
        }
      ]
    },
    {
      "cell_type": "code",
      "source": [
        "if 'money' in pocket: print(\"money\")\n",
        "else: print(\"anything\")"
      ],
      "metadata": {
        "colab": {
          "base_uri": "https://localhost:8080/"
        },
        "id": "abUtCeii8dcX",
        "outputId": "3651d8ac-623d-41ae-d65b-beb28a3d0061"
      },
      "execution_count": 4,
      "outputs": [
        {
          "output_type": "stream",
          "name": "stdout",
          "text": [
            "money\n"
          ]
        }
      ]
    },
    {
      "cell_type": "code",
      "source": [
        "if 'photo' in pocket: print(\"money\")\n",
        "else: print(\"anything\")"
      ],
      "metadata": {
        "colab": {
          "base_uri": "https://localhost:8080/"
        },
        "id": "2GzkYdnB8oW1",
        "outputId": "c8c37c19-dcfb-48d5-a30f-b9ebaeee390a"
      },
      "execution_count": 8,
      "outputs": [
        {
          "output_type": "stream",
          "name": "stdout",
          "text": [
            "anything\n"
          ]
        }
      ]
    },
    {
      "cell_type": "code",
      "source": [
        "print(\"money\") if 'money' in pocket else print(\"anything\")"
      ],
      "metadata": {
        "colab": {
          "base_uri": "https://localhost:8080/"
        },
        "id": "31dekI6w8qX3",
        "outputId": "708dd207-e28c-44be-bf07-ad9bbeee82c4"
      },
      "execution_count": 9,
      "outputs": [
        {
          "output_type": "stream",
          "name": "stdout",
          "text": [
            "money\n"
          ]
        }
      ]
    },
    {
      "cell_type": "code",
      "source": [
        "print(\"money\") if 'photo' in pocket else print(\"anything\")"
      ],
      "metadata": {
        "colab": {
          "base_uri": "https://localhost:8080/"
        },
        "id": "yj3FSlvB9KKK",
        "outputId": "687181dc-b5f1-42f3-a914-031b1d673293"
      },
      "execution_count": 10,
      "outputs": [
        {
          "output_type": "stream",
          "name": "stdout",
          "text": [
            "anything\n"
          ]
        }
      ]
    },
    {
      "cell_type": "code",
      "source": [
        "score = 100\n",
        "\n",
        "if score >= 60:\n",
        "  message = \"success\"\n",
        "else:\n",
        "  message = \"failure\"\n",
        "\n",
        "print(message)"
      ],
      "metadata": {
        "colab": {
          "base_uri": "https://localhost:8080/"
        },
        "id": "FZLP-eso9Reo",
        "outputId": "54dc1c23-41f6-4088-c8af-da6f8243c7cb"
      },
      "execution_count": 12,
      "outputs": [
        {
          "output_type": "stream",
          "name": "stdout",
          "text": [
            "success\n"
          ]
        }
      ]
    },
    {
      "cell_type": "code",
      "source": [
        "message = \"success\" if score <=60 else \"failure\"\n",
        "print(message)"
      ],
      "metadata": {
        "colab": {
          "base_uri": "https://localhost:8080/"
        },
        "id": "hCYMkLU19g77",
        "outputId": "90033d5b-c1c0-4192-952b-0c31e052d579"
      },
      "execution_count": 14,
      "outputs": [
        {
          "output_type": "stream",
          "name": "stdout",
          "text": [
            "failure\n"
          ]
        }
      ]
    },
    {
      "cell_type": "markdown",
      "source": [
        "**조건문이 참인 경우 if 조건문 else 조건문이 거짓인 경우**로 정의할 수 있다."
      ],
      "metadata": {
        "id": "X2WfhkvA99lv"
      }
    },
    {
      "cell_type": "markdown",
      "source": [
        "# 2. List Comprehension"
      ],
      "metadata": {
        "id": "K30A_SBb-bco"
      }
    },
    {
      "cell_type": "code",
      "source": [
        "a = [1,2,3,4]\n",
        "\n",
        "result = []\n",
        "for num in a:\n",
        "  result.append(num*3)\n",
        "\n",
        "print(result)"
      ],
      "metadata": {
        "colab": {
          "base_uri": "https://localhost:8080/"
        },
        "id": "G7bo8lTh-CB-",
        "outputId": "5f6aa9d5-09d3-478c-b656-4d45eac95a3f"
      },
      "execution_count": 15,
      "outputs": [
        {
          "output_type": "stream",
          "name": "stdout",
          "text": [
            "[3, 6, 9, 12]\n"
          ]
        }
      ]
    },
    {
      "cell_type": "code",
      "source": [
        "result = [num*3 for num in a]\n",
        "print(result)"
      ],
      "metadata": {
        "colab": {
          "base_uri": "https://localhost:8080/"
        },
        "id": "6zaua-aI_Gaw",
        "outputId": "6f86027c-24db-485d-9ad5-36148d1f7c5f"
      },
      "execution_count": 16,
      "outputs": [
        {
          "output_type": "stream",
          "name": "stdout",
          "text": [
            "[3, 6, 9, 12]\n"
          ]
        }
      ]
    },
    {
      "cell_type": "code",
      "source": [
        "result = [num * 3 for num in a if num % 2 == 0]\n",
        "print(result)"
      ],
      "metadata": {
        "colab": {
          "base_uri": "https://localhost:8080/"
        },
        "id": "5R5VAUQy_Rdu",
        "outputId": "5f667eb5-563d-479a-9ee8-8fd6fac385f7"
      },
      "execution_count": 17,
      "outputs": [
        {
          "output_type": "stream",
          "name": "stdout",
          "text": [
            "[6, 12]\n"
          ]
        }
      ]
    },
    {
      "cell_type": "markdown",
      "source": [
        "리스트 내포는 **[표현식 for 항목 in 반복 가능 객체 if 조건]**와 같이 정의할 수 있다.\n",
        "\n",
        "조금 복잡하지만 for문을 2개 이상 사용하는 것도 가능하다. <br>\n",
        "\n",
        "<img width=400 src=https://user-images.githubusercontent.com/48666867/149572190-0d89ef24-5e19-4bfa-be77-e7e66f2f1d53.jpg>\n",
        "\n",
        "Ref. Jump to python\n"
      ],
      "metadata": {
        "id": "AYAj4fde_28t"
      }
    },
    {
      "cell_type": "code",
      "source": [
        "'''result = [x*y for x in range(2,10)\n",
        "              for y in range(1,10)]'''\n",
        "\n",
        "result = [x*y for x in range(2,10) for y in range(1,10)]\n",
        "\n",
        "print(result)\n",
        "\n"
      ],
      "metadata": {
        "colab": {
          "base_uri": "https://localhost:8080/"
        },
        "id": "JUidhQF7_vei",
        "outputId": "0c123aee-4061-47e8-ffd9-2859a4ec6877"
      },
      "execution_count": 23,
      "outputs": [
        {
          "output_type": "stream",
          "name": "stdout",
          "text": [
            "[2, 4, 6, 8, 10, 12, 14, 16, 18, 3, 6, 9, 12, 15, 18, 21, 24, 27, 4, 8, 12, 16, 20, 24, 28, 32, 36, 5, 10, 15, 20, 25, 30, 35, 40, 45, 6, 12, 18, 24, 30, 36, 42, 48, 54, 7, 14, 21, 28, 35, 42, 49, 56, 63, 8, 16, 24, 32, 40, 48, 56, 64, 72, 9, 18, 27, 36, 45, 54, 63, 72, 81]\n"
          ]
        }
      ]
    },
    {
      "cell_type": "code",
      "source": [
        "print([i for i in range(1,100)])"
      ],
      "metadata": {
        "colab": {
          "base_uri": "https://localhost:8080/"
        },
        "id": "7P51FwD9BRMt",
        "outputId": "7359e4b1-5e5d-48e8-edf0-6c12a52074f5"
      },
      "execution_count": 26,
      "outputs": [
        {
          "output_type": "stream",
          "name": "stdout",
          "text": [
            "[1, 2, 3, 4, 5, 6, 7, 8, 9, 10, 11, 12, 13, 14, 15, 16, 17, 18, 19, 20, 21, 22, 23, 24, 25, 26, 27, 28, 29, 30, 31, 32, 33, 34, 35, 36, 37, 38, 39, 40, 41, 42, 43, 44, 45, 46, 47, 48, 49, 50, 51, 52, 53, 54, 55, 56, 57, 58, 59, 60, 61, 62, 63, 64, 65, 66, 67, 68, 69, 70, 71, 72, 73, 74, 75, 76, 77, 78, 79, 80, 81, 82, 83, 84, 85, 86, 87, 88, 89, 90, 91, 92, 93, 94, 95, 96, 97, 98, 99]\n"
          ]
        }
      ]
    },
    {
      "cell_type": "code",
      "source": [
        "i = [i for i in range(1,100)]\n",
        "print(i)"
      ],
      "metadata": {
        "colab": {
          "base_uri": "https://localhost:8080/"
        },
        "id": "iRy28Re2B-RR",
        "outputId": "92527251-de3d-4fc6-8e76-f321c3b084b1"
      },
      "execution_count": 27,
      "outputs": [
        {
          "output_type": "stream",
          "name": "stdout",
          "text": [
            "[1, 2, 3, 4, 5, 6, 7, 8, 9, 10, 11, 12, 13, 14, 15, 16, 17, 18, 19, 20, 21, 22, 23, 24, 25, 26, 27, 28, 29, 30, 31, 32, 33, 34, 35, 36, 37, 38, 39, 40, 41, 42, 43, 44, 45, 46, 47, 48, 49, 50, 51, 52, 53, 54, 55, 56, 57, 58, 59, 60, 61, 62, 63, 64, 65, 66, 67, 68, 69, 70, 71, 72, 73, 74, 75, 76, 77, 78, 79, 80, 81, 82, 83, 84, 85, 86, 87, 88, 89, 90, 91, 92, 93, 94, 95, 96, 97, 98, 99]\n"
          ]
        }
      ]
    },
    {
      "cell_type": "code",
      "source": [
        "numbers = [1,2,3,4,5]\n",
        "result = []\n",
        "\n",
        "for n in numbers:\n",
        "  if n%2 == 1:\n",
        "    result.append(n*2)\n",
        "\n",
        "print(result)"
      ],
      "metadata": {
        "colab": {
          "base_uri": "https://localhost:8080/"
        },
        "id": "TLnXcxUFDrzs",
        "outputId": "47a613eb-8153-4fc2-c15e-b50f86eecdc4"
      },
      "execution_count": 38,
      "outputs": [
        {
          "output_type": "stream",
          "name": "stdout",
          "text": [
            "[2, 6, 10]\n"
          ]
        }
      ]
    },
    {
      "cell_type": "code",
      "source": [
        "result = [n*2 for n in numbers if n%2 == 1]\n",
        "print(result)"
      ],
      "metadata": {
        "colab": {
          "base_uri": "https://localhost:8080/"
        },
        "id": "tNMaoPgmD5xh",
        "outputId": "cb914138-8ce0-4c08-f646-17c930672b67"
      },
      "execution_count": 42,
      "outputs": [
        {
          "output_type": "stream",
          "name": "stdout",
          "text": [
            "[2, 6, 10]\n"
          ]
        }
      ]
    }
  ]
}